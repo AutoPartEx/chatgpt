{
 "cells": [
  {
   "cell_type": "code",
   "execution_count": 1,
   "id": "a9e3ad2b",
   "metadata": {},
   "outputs": [],
   "source": [
    "import os\n",
    "import re"
   ]
  },
  {
   "cell_type": "code",
   "execution_count": 2,
   "id": "0cec69bb",
   "metadata": {},
   "outputs": [],
   "source": [
    "# Define the name of the file to be used\n",
    "filename = 'apillarb.js'"
   ]
  },
  {
   "cell_type": "code",
   "execution_count": 3,
   "id": "3ec6e8ad",
   "metadata": {},
   "outputs": [
    {
     "name": "stdout",
     "output_type": "stream",
     "text": [
      "[\"import React, { useEffect, useState, useMemo } from 'react';\\n\", \"import { userSelector, useSelector, useStore } from 'react-redux';\\n\", \"import { useRouter } from 'next/dist/client/router';\\n\", '\\n', \"import axios from 'axios';\\n\", \"import { allAutoParts } from '../../actions/autoparts';\\n\", \"import { listApillar } from '../../actions/autoparts';\\n\", \"import { autoPartCount } from '../../actions/autoparts';\\n\", '\\n', \"import Head from 'next/head';\\n\"]\n"
     ]
    }
   ],
   "source": [
    "# Open and read the content of apillarb.js\n",
    "with open(filename, 'r') as f:\n",
    "    data = f.readlines()\n",
    "\n",
    "# Debug - Print the first 10 lines of the file\n",
    "print(data[:10])\n",
    "\n",
    "# Declare an empty list to store auto part names\n",
    "auto_parts = []"
   ]
  },
  {
   "cell_type": "code",
   "execution_count": 4,
   "id": "92dc6ef2",
   "metadata": {},
   "outputs": [
    {
     "name": "stdout",
     "output_type": "stream",
     "text": [
      "['Air Box or Air Cleaner', 'Air Condition Vents or Heater Vents', 'Air Flow Meter', 'Air Pump', 'Air Ride Compressor', 'Air Shutter', 'Air Tube Resonator', 'Alternator', 'Amplifier or Radio', 'Antenna', 'Anti Lock Brake Computer', 'Anti Lock Brake Pump', 'Armrest', 'Ash Tray or Lighter', 'Audiovisual or TV Screen)', 'Automatic Headlight Dimmer', 'Auto Glass', 'Auto. Trans. Cooler', 'Axle Actuator 4WD', 'Axle Assy Fr (4WD w. Housing)', 'Axle Assy Rear With Housing', 'Axle Beam Front 2WD Include I Beam Suspension', 'Axle Beam Rear FWD', 'Axle Flange', 'Axle Housing Only', 'Axle Shaft', 'Back Door Above Rear Bumper)', 'Back Door Glass', 'Back Door Handle, Inside', 'Back Door Handle, Outside', 'Back Door Hinge', 'Back Door Moulding', 'Back Door Shell', 'Back Door Trim Panel', 'Back Glass', 'Back Glass Regulator', 'Back Glass Shock', 'Backing Plate, Front', 'Backing Plate, Rear', 'Backup Camera', 'Backup Light', 'Battery', 'Battery Tray', 'Bed, Pickup', 'Bed Floor Pickup', 'Bed Front Panel Pickup', 'Bed Liner', 'Bed Side, Pickup', 'Bell Housing', 'Belt Tensioner', 'Blind Spot Camera', 'Blower Motor', 'Body Wiring Harness', 'Brake Auto Parts', 'Brake Clutch Pedal', 'Brake Booster', 'Brake Proportioning Valve', 'Brake Rotor Front Drum', 'Brake Rotor Rear Drum', 'Brake Shoes/Pads', 'Brush Guard', 'Bumper Assyembly Front Includes Cover', 'Bumper Assyembly Rear Includes Cover', 'Bumper Bracket (Misc)', 'Bumper Cover (Front)', 'Bumper Cover (Rear)', 'Bumper End Cap', 'Bumper Energy Absorber (Front)', 'Bumper Energy Absorber (Rear)', 'Bumper Face Bar (Front)', 'Bumper Face Bar (Rear)', 'Bumper Filler Panel', 'Bumper Guard (Front)', 'Bumper Guard (Rear)', 'Bumper Impact Strip', 'Bumper Reinforcement (Front)', 'Bumper Reinforcement (Rear)', 'Bumper Shock', 'Bumper Step Pad', 'Cab Auto Parts', 'Cab', 'Cab Clip No Cowl', 'Cab Corner', 'Cabin Air Filter', 'Cabin Fuse Box', 'Caliper', 'Camera Projector', 'Camshaft', 'Camshaft Housing', 'Carburetor or Throttle Body', 'Cargo Cover/Shade', 'Carpet', 'Carrier or Differential', 'Carrier Case', 'CD Player or Radio', 'Center Cap or Wheel', 'A Pillar', 'Center Pillar', 'Charging Port Door Assembly', 'Chassis Control Computer', 'Clock', 'Clockspring For Air Bag', 'Clutch Cable', 'Clutch Disc', 'Clutch Master Cylinder', 'Coil/Air Spring', 'Coil/Igniter', 'Column Switch', 'Computer Box Engine', 'Computer Box Not Engine', 'Condenser', 'Condenser and Radiator and Mounted Cooling Fan', 'Connecting Rod For Engine', 'Console Front', 'Console Rear', 'Control Arm Front Lower', 'Control Arm Front Upper', 'Control Arm Rear Lower', 'Control Arm Rear Upper', 'Convertible Top Boot', 'Convertible Top Lift', 'Convertible Top Motor', 'Convertible Windscreen', 'Coolant Pump', 'Cooling Fan For Radiator and Con MTD', 'Core Radiator Support', 'Cowl', 'Cowl Vent Panel', 'Crank Pulley or Harmonic Balancer', 'Crankshaft', 'Cruise Control Computer', 'Cruise Control Servo or Regulator', 'Cruise Speed Controler', 'Cylinder Head For Engine', 'Dash Interior Seat Switch', 'Dash Bezel', 'Dash Pad', 'Dash Panel', 'Dash Wiring Harness', 'Deck Lid', 'Differential Assembly or Carrier', 'Differential Case Only', 'Differential Flange Only', 'Distributor', 'Door Back Door Above Rear Bumper', 'Door Front', 'Door Handle, Inside', 'Door Handle, Outside', 'Door Outer Repair Panel Back', 'Door Outer Repair Panel Front', 'Door Outer Repair Panel Rear', 'Door Rear Side of Vehicle', 'Door Shell, Back', 'Door Shell, Front', 'Door Shell, Rear', 'Door Window Crank Handle', 'Drag Link', 'Drive-By-Wire', 'Drive Shaft, Front', 'Drive Shaft, Rear', 'EGR Valve', 'Electric Door Motor Not Window', 'Electric Window Motor', 'Electrical Part Misc', 'Emblem', 'Emergency Brake', 'Engine Auto Parts', 'Engine', 'Engine Block', 'Engine Computer', 'Engine Core', 'Engine Cover', 'Engine Cradle', 'Engine Cylinder Head', 'Engine Fuse Box', 'Engine Mounts', 'Engine Oil Pan', 'Engine Wiring Harness', 'Exhaust Assembly', 'Exhaust Cross Pipe', 'Exhaust Fluid Pump', 'Exhaust Fluid Tank', 'Exhaust Heat Shield', 'Exhaust Lead Pipe', 'Exhaust Manifold', 'Exhaust Muffler', 'Exhaust Pipe', 'Exhaust Resonator', 'Exhaust Tail Pipe', 'Fan Blade', 'Fan Clutch', 'Fender', 'Fender Extension or Flare', 'Fender Inner Liner', 'Fender Inner Panel', 'Fender Moulding', 'Fender Skirt', 'Flex Plate', 'Floor Mats', 'Floor Pan', 'Floor Shift Assembly', 'Flywheel', 'Fog Lamp', 'Fog Lamp Bracket', 'Frame', 'Frame Front Section Only', 'Frame Horn', 'Frame Upper and Lower Rails', 'Front Axle Assembly 4WD With Housing', 'Front Axle Beam 2WD, Incl I Beam Suspension', 'Front Axle Shaft', 'Front Bumper Assembly Includes Cover', 'Front Bumper Cover', 'Front Bumper Face Bar', 'Front Bumper Guard', 'Front Bumper Reinforcement', 'Front Console', 'Front Door', 'Front Door Glass', 'Front Door Handle Inside', 'Front Door Handle Outside', 'Front Door Hinge', 'Front Door Mirror', 'Front Door Mirror Glass', 'Front Door Moulding', 'Front Door Regulator', 'Front Door Shell', 'Front Door Switch', 'Front Door Trim Panel', 'Front Door Vent Glass', 'Front Door Vent Glass Regulator', 'Front Door Window Motor', 'Front Drive Shaft', 'Front End Assembly Nose', 'Front Seat Belt Assembly', 'Front Valance', 'Front Window Regulator', 'Fuel Cap', 'Fuel Cell', 'Fuel Distributor or Misc Injection', 'Fuel Filler Door', 'Fuel Filler Neck', 'Fuel Gauge', 'Fuel Injector or Misc Injection', 'Fuel Injector Pump', 'Fuel Line', 'Fuel Pump', 'Fuel Rail or Misc Injection', 'Fuel Tank', 'Fuel Tank Sending Unit', 'Fuse Box Cabin', 'Fuse Box Engine', 'Gas Cap', 'Gas Tank', 'Gate Interior Trim Panel', 'Gate Window Regulator', 'Gate or Lid', 'Gauge Misc', 'Generator', 'Glass, Back', 'Glass Front Door', 'Glass Front Vent', 'Glass Quarter Window', 'Glass Rear Door', 'Glass Rear Vent', 'Glass Special and Sunroof TTop', 'Glass Windshield', 'Glove Box', 'GPS Screen', 'Grille', 'Grille Moulding', 'Grille Surround', 'Harmonic Balancer or Crank Pulley', 'Hatch Trunk Lid', 'Head Cylinder', 'Header Panel', 'Headlamp Ballast', 'Headlamp Bulb', 'Headlight Assembly', 'Headlight Bracket', 'Headlight Bucket', 'Headlight Cover Plastic', 'Headlight Door', 'Headlight Igniter', 'Headlight Motor', 'Headlight Switch Dash', 'Headlight Switch or Column Switch', 'Headlight Washer Motor Only', 'Headlight Wiper Motor Only', 'Headliner', 'Headrest', 'Heads Up Display', 'Heater Assy', 'Heater Core', 'Heater Motor', 'Heater/AC Control', 'Hood', 'Hood Hinge', 'Hood Insulation Pad', 'Hood Latch', 'Hood Ornament', 'Hood Scoop', 'Hood Shock', 'Horn', 'Hub', 'Hub Cap/Wheel Cover Display With Image', 'Hub Cap/Wheel Cover Display Without Image', 'Hub, Lockout 4WD', 'Hybrid Converter Inverter', 'Idler Arm', 'Ignition Module', 'Ignition Switch', 'Ignitor or Coil', 'Info Screen', 'Inside Door Handle', 'Instrument Cluster', 'Intake Manifold', 'Intercooler', 'Interior Complete', 'Interior Light', 'Interior Trim Panel (Gate/Lid)', 'Interior Trim Panel (Quarter)', 'Interior Trim Panel, Door (Back)', 'Interior Trim Panel, Door (Front)', 'Interior Trim Panel, Door (Rear)', 'Inverter Cooler', 'Jack Assembly', 'Keys/Latches and Locks', 'Key Remote/Fob', 'Knee Assembly (see also Strut Assy)', 'Lamp Wiring Harness', 'Latch, Front Door', 'Latch, Rear Door', 'Latch, Back Door', 'Latches', 'Leaf Spring, Front', 'Leaf Spring, Rear', 'License Lamp', 'Lid/Gate', 'Lid Interior Trim Panel', 'Lock Actuator', 'Lockout Hub, 4X4', 'Locks', 'Luggage Rack', 'Marker/Fog Light, Front', 'Marker/Side Light, Rear', 'Master Cylinder', 'Mirror, Door', 'Mirror, Rear View', 'Misc. Electrical', 'Moulding (Back Door)', 'Moulding (Fender)', 'Moulding (Front Door)', 'Moulding (Lid/Hatch/Gate)', 'Moulding (Quarter Panel/Bed Side)', 'Moulding (Rear Door)', 'Moulding (Rocker)', 'Moulding (Windshield)', 'Mouldings (Misc)', 'Night Vision Camera', 'Nose (Front End Assembly)', 'Oil Cooler', 'Oil Filter Adapter', 'Oil Pan, Engine', 'Oil Pan, Transmission', 'Oil Pump, Engine', 'Outside Door Handle', 'Overdrive Unit (see also Transmission)', 'Owners Manual', 'Paddle Shifter', 'Park/Fog Lamp Front', 'Parcel Shelf', 'Park Lamp Rear (Side)', 'Parking Assist Camera', 'Pickup Bed', 'Pickup Bed Floor', 'Pickup Bed Front Panel', 'Pickup Bed Side', 'Pickup Cap/Camper Shell', 'Piston', 'Pitman Arm', 'Power Brake Booster', 'Power Inverter (Hybrid)', 'Power Steering Assy', 'Power Steering Control Valve', 'Power Steering Cooler', 'Power Steering Motor', 'Power Steering Pressure Cyl', 'Power Steering Pressure Hose', 'Power Steering Pump', 'Power Steering Rack/Box/Gear', 'Power Steering Reservoir', 'Pressure Plate', 'Push Rod (Engine)', 'Quarter Interior Trim Panel', 'Quarter Moulding', 'Quarter Panel', 'Quarter Panel Extension', 'Quarter Repair Panel', 'Quarter Window', 'Quarter Window Motor', 'Quarter Window Regulator', 'Rack & Pinion (Steering)', 'Radiator', 'Radiator/Condenser mtd. Cooling Fan', 'Radiator Air Shutter', 'Radiator Core Support', 'Radiator Cover Baffle', 'Radiator Fan Shroud', 'Radiator Overflow Bottle', 'Radio/CD (see also A/C Control or TV Screen)', 'Radius Arm, Front', 'Rag Joint (see also Steering Coupler)', 'Rear Axle Assy (RWD)', 'Rear Axle Beam (FWD)', 'Rear Body Panel', 'Rear Bumper Assembly (includes cover)', 'Rear Bumper Cover', 'Rear Bumper Face Bar', 'Rear Bumper Guard', 'Rear Bumper Reinforcement/Misc', 'Rear Clip', 'Rear Console', 'Rear Crossmember', 'Rear Door (side of vehicle)', 'Rear Door Handle, Inside', 'Rear Door Handle, Outside', 'Rear Door Hinge', 'Rear Door Moulding', 'Rear Door Regulator', 'Rear Door Shell', 'Rear Door Switch', 'Rear Door Trim Panel', 'Rear Door Vent Glass', 'Rear Door Vent Glass regulator', 'Rear Door Window', 'Rear Door Window Motor', 'Rear Door Window Regulator', 'Rear Drive Shaft', 'Rear Finish Panel', 'Rear Gate/Lid', 'Rear Gate Window Motor', 'Rear Knuckle/Stub Axle', 'Rear Lower Valance', 'Rear Seat Belt Assembly', 'Rear Suspension (see also Control Arms)', 'Rear Suspension Locating Arm', 'Rear Suspension Trailing Arm', 'Rear Window Defogger', 'Rear Window Washer Motor', 'Relay (Misc)', 'Ring and Pinion Only', 'Rocker Arm', 'Rocker Moulding', 'Rocker Panel (see also Center Pillar)', 'Roll Bar', 'Roll Bar Padding', 'Roof', 'Roof Panel (see also Sunroof)', 'Roof Rack', 'Running Boards', 'Running Board Motor', 'Seat, Back (3rd)', 'Seat, Front', 'Seat, Rear (2nd)', 'Seat Belt, Front', 'Seat Belt, Rear', 'Seat Belt Motor', 'Seat Belt Track (Electric)', 'Seat Motor', 'Seat Switch', 'Seat Track, Front Only', 'Sensor (Body, Misc)', 'Sensor (Chassis, Misc)', 'Sensor (Drivetrain, Misc)', 'Shifter Assembly (Floor)', 'Shifter Linkage', 'Shock Absorber', 'Slave Cylinder', 'Smog Pump', 'Spare Tire Carrier', 'Spare Tire Cover', 'Speaker', 'Special Glass', 'Speedometer', 'Spindle', 'Spoiler, Front', 'Spoiler, Rear', 'Spring Hanger', 'Stabilizer Bar Only', 'Starter', 'Steering Column', 'Steering Column Shaft', 'Steering Coupler', 'Steering Knuckle', 'Steering Pump', 'Steering Rack/Box/Gear', 'Steering Wheel', 'Strut (see also Knee Assy)', 'Strut Tower Brace', 'Sun Roof / T-Top', 'Sun Roof Motor', 'Sunvisor', 'Supercharger/Turbocharger', 'Tachometer', 'Tail Light', 'Tail Light Circuit Board', 'Tailgate Cable', 'Tailgate/Trunk Lid', 'Tailgate Hinge', 'Tailgate Lift Motor', 'Thermostat Housing', 'Third Brake Light', 'Throttle Body/Throttle Valve Housing', 'Tie Rod', 'Timing Belt/Chain', 'Timing Cover', 'Timing Gears', 'Tire', 'Tonneau Cover', 'Torque Convertor', 'Torsion Bar', 'Track/Watts Linkage', 'Trailer Hitch/Tow Hook/Winch', 'Trans OD Unit', 'Transaxle Housing Only', 'Transfer Case', 'Transfer Case Adapter', 'Transfer Case Core', 'Transfer Case Electric Motor', 'Transfer Case Switch', 'Transmission Auto Parts', 'Transmission', 'Transmission Bellhousing Only', 'Transmission Clutch Actuator', 'Transmission Computer', 'Transmission Core', 'Transmission Crossmember', 'Transmission Front Pump', 'Transmission Mount', 'Transmission Pan', 'Transmission Torque Converter', 'Transmission Valve Body', 'Transmission Wiring Harness', 'Trim Ring', 'Trunk Lid Pull Down Motor', 'Trunk Lid/Hatch', 'Trunk Lid/Hatch Hinge', 'Trunk Lid/Hatch Shock', 'Trunk Lid/Tailgate Moulding', 'TTop/Sunroof', 'Turbo/Supercharger Core', 'Turbocharger/Supercharger', 'Turn Signal/Fog Lamp', 'TV Screen', 'Uniside', 'Vacuum Pump', 'Vacuum Storage Tank', 'Valance, Front', 'Valance, Rear', 'Valve Cover', 'Vapor Canister', 'Voltage Regulator', 'Water Pump', 'Water Separator', 'Weather Stripping', 'Wheel (display w image)', 'Wheel (display w/o image)', 'Wheel Bearing', 'Wheel Cover/Hubcap (display w image)', 'Wheel Cover/Hubcap (display w/o image)', 'Wheel Lug Nut', 'Wheel Opening Moulding', 'Wheelhouse (Rear)', 'Window Motor', 'Window Regulator (Front)', 'Window Regulator (Rear)', 'Window Shade', 'Window Switch (Front Door)', 'Window Switch (Rear Door)', 'Window Washer Motor, Rear', 'Windshield', 'Windshield Frame', 'Windshield Washer Motor Front', 'Windshield Washer Reservoir', 'Wiper Arm', 'Wiper Linkage', 'Wiper Motor Front Windshield', 'Wiper Motor, Rear', 'Wiring Harness Air Conditioning', 'Wiring Harness Body', 'Wiring Harness Dash', 'Wiring Harness Engine', 'Wiring Harness Lamp', 'Wiring Harness Misc', 'Wiring Harness Transmission']\n",
      "['Air Box or Air Cleaner', 'Air Condition Vents or Heater Vents', 'Air Flow Meter', 'Air Pump', 'Air Ride Compressor', 'Air Shutter', 'Air Tube Resonator', 'Alternator', 'Amplifier or Radio', 'Antenna']\n"
     ]
    }
   ],
   "source": [
    "# Read auto part names from part-names.js file\n",
    "with open('part-names.js') as f:\n",
    "    auto_part_data = f.read()\n",
    "\n",
    "    # Find all auto part names using regular expression\n",
    "    auto_part_matches = re.findall(r\"partname:(?:\\s*)'(.+?)'\", auto_part_data)\n",
    "\n",
    "    # Debug - Print the matches\n",
    "    print(auto_part_matches)\n",
    "\n",
    "    # Use re.findall() to obtain all matches and filter out any empty matches\n",
    "    # This ensures that the auto part names are preserved in the order they appear in the part-names.js file\n",
    "    auto_parts = [match for match in auto_part_matches if match]\n",
    "\n",
    "    # Debug - Print the first 10 auto part names\n",
    "    print(auto_parts[:10])"
   ]
  },
  {
   "cell_type": "code",
   "execution_count": 5,
   "id": "ce373b23",
   "metadata": {},
   "outputs": [],
   "source": [
    "# Reverse the order of the auto parts list\n",
    "auto_parts = auto_parts[::-1]"
   ]
  },
  {
   "cell_type": "code",
   "execution_count": null,
   "id": "23c0d837",
   "metadata": {},
   "outputs": [],
   "source": [
    "# Loop through each auto part\n",
    "for auto_part in auto_parts:\n",
    "    try:\n",
    "        modified_lines = []  # Create a separate list for modified lines\n",
    "\n",
    "        # Replace import statements\n",
    "        for line in data:\n",
    "            line = re.sub(\n",
    "                r\"import\\s((Map|Table)A)Pillars?\\sfrom\\s'../../components/layout/((Map|Table)A)Pillars?';\",\n",
    "                lambda match: f\"import {auto_part if match.group(2) == 'Map' else 'Table'} from '../../components/layout/{auto_part.replace(' ', '')}';\",\n",
    "                line\n",
    "            )\n",
    "            modified_lines.append(line)  # Append the modified line to the new list\n",
    "\n",
    "        # Replace function section\n",
    "        for line in modified_lines[:]:\n",
    "            line = line.replace(\"APillars\", ''.join(word.capitalize() for word in auto_part.split())).replace(\"a-pillar\", auto_part.replace(' ', '-')).replace(\"loadAPillar\", ''.join(word.capitalize() for word in auto_part.split())).replace(\"a-pillar-count\", auto_part.replace(' ', '-'))\n",
    "            modified_lines.append(line)  # Append the modified line to the new list\n",
    "\n",
    "        # Replace HTML section\n",
    "        start_marker = \"{/* Start Images */}\"\n",
    "        end_marker = \"{/* End Images */}\"\n",
    "        replace_start = False\n",
    "\n",
    "        for line in modified_lines:\n",
    "            if line.strip() == start_marker:\n",
    "                replace_start = True\n",
    "                modified_lines.append(line)\n",
    "                continue\n",
    "            elif line.strip() == end_marker:\n",
    "                replace_start = False\n",
    "                modified_lines.append(line)\n",
    "                continue\n",
    "            if replace_start:\n",
    "                # Perform specific replacements within the HTML section\n",
    "                line = re.sub(r\"(?i)\\bA\\s*Pillar\\b\", ' '.join(word.capitalize() for word in auto_part.split()), line)\n",
    "                line = re.sub(r\"(?i)\\bapillar\\b\", auto_part.lower().replace(' ', '-'), line)\n",
    "                line = re.sub(r\"(?i)\\ba\\s+pillar\\b\", auto_part.lower().replace(' ', '-'), line)\n",
    "                line = re.sub(r\"(?i)\\bexterior\\s+a\\s+pillar\\s+and\\s+interior\\s+a\\s+pillar\\b\", auto_parts[(auto_parts.index(auto_part) + 1) % len(auto_parts)], line)\n",
    "            modified_lines.append(line)  # Append the modified line to the new list\n",
    "\n",
    "        # Write the modified lines back to the original file\n",
    "        with open(f'../new/{auto_part.replace(\" \", \"-\")}.js', 'w') as f:\n",
    "            f.write(''.join(modified_lines))\n",
    "\n",
    "        # Determine folder name based on auto part name, and convert to lowercase\n",
    "        folder_name = '-'.join(auto_part.split()).lower()\n",
    "\n",
    "        # Set absolute path of output folder to root directory\n",
    "        output_folder_path = \"/Users/autopartex/Desktop/AutoPartEx/AutoPartExUtilities/\"\n",
    "\n",
    "        # Check if the output folder exists; if not, create it\n",
    "        if not os.path.exists(output_folder_path):\n",
    "            os.mkdir(output_folder_path)\n",
    "\n",
    "        # Set absolute path of formatted output folder\n",
    "        formatted_output_folder_path = os.path.join(output_folder_path, folder_name)\n",
    "\n",
    "        # Check if the formatted output folder exists; if not, create it\n",
    "        if not os.path.exists(formatted_output_folder_path):\n",
    "            os.mkdir(formatted_output_folder_path)\n",
    "\n",
    "        # Set filename of output file\n",
    "        output_filename = 'index.js'\n",
    "\n",
    "        # Set output file absolute path within the formatted output folder\n",
    "        output_path = os.path.join(formatted_output_folder_path, output_filename)\n",
    "\n",
    "        # Check if the output file exists in the formatted output folder; if not, create it\n",
    "        if not os.path.exists(output_path):\n",
    "            with open(output_path, 'w') as f:\n",
    "                f.writelines(modified_lines)\n",
    "\n",
    "            # Print the number of lines in the new file\n",
    "            print(f\"{len(modified_lines)} lines written to {os.path.abspath(output_path)}\")\n",
    "\n",
    "        # If the output file exists in the formatted output folder, print a message indicating that it was not created\n",
    "        else:\n",
    "            print(f\"{output_filename} already exists in the formatted output folder; skipping\")\n",
    "    except Exception as e:\n",
    "        print(f\"An error occurred for auto part: {auto_part}\")\n",
    "        print(e)\n",
    "\n",
    "        # Continue to the next iteration of the loop\n",
    "        continue\n",
    "\n",
    "    # Navigate back to the output_folder_path\n",
    "    os.chdir(output_folder_path)\n",
    "\n",
    "# Move the folder to the current working directory\n",
    "os.rename(\n",
    "    os.path.join(output_folder_path, formatted_output_folder_path),\n",
    "    os.path.join(output_folder_path, filename)\n",
    ")\n",
    "\n",
    "# Print out the fully modified code\n",
    "with open(filename) as f:\n",
    "    print(f.read())"
   ]
  },
  {
   "cell_type": "code",
   "execution_count": null,
   "id": "22249c71",
   "metadata": {},
   "outputs": [],
   "source": []
  }
 ],
 "metadata": {
  "kernelspec": {
   "display_name": "Python 3",
   "language": "python",
   "name": "python3"
  },
  "language_info": {
   "codemirror_mode": {
    "name": "ipython",
    "version": 3
   },
   "file_extension": ".py",
   "mimetype": "text/x-python",
   "name": "python",
   "nbconvert_exporter": "python",
   "pygments_lexer": "ipython3",
   "version": "3.8.8"
  }
 },
 "nbformat": 4,
 "nbformat_minor": 5
}
