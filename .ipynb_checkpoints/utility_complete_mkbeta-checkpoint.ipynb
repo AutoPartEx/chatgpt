{
 "cells": [
  {
   "cell_type": "code",
   "execution_count": 1,
   "id": "22e2500b",
   "metadata": {},
   "outputs": [],
   "source": [
    "import os"
   ]
  },
  {
   "cell_type": "code",
   "execution_count": 2,
   "id": "f4aa9c19",
   "metadata": {},
   "outputs": [],
   "source": [
    "import re"
   ]
  },
  {
   "cell_type": "code",
   "execution_count": 3,
   "id": "19413844",
   "metadata": {},
   "outputs": [],
   "source": [
    "# define the name of the file and folder to be used\n",
    "filename = 'apillarb.js'"
   ]
  },
  {
   "cell_type": "code",
   "execution_count": 4,
   "id": "35420b3c",
   "metadata": {},
   "outputs": [],
   "source": [
    "# open and read the content of apillarb.js\n",
    "with open(filename, 'r') as f:\n",
    "    data = f.readlines()"
   ]
  },
  {
   "cell_type": "code",
   "execution_count": 5,
   "id": "84e9f1ef",
   "metadata": {},
   "outputs": [
    {
     "name": "stdout",
     "output_type": "stream",
     "text": [
      "[\"import React, { useEffect, useState, useMemo } from 'react';\\n\", \"import { userSelector, useSelector, useStore } from 'react-redux';\\n\", \"import { useRouter } from 'next/dist/client/router';\\n\", '\\n', \"import axios from 'axios';\\n\", \"import { allAutoParts } from '../../actions/autoparts';\\n\", \"import { listApillar } from '../../actions/autoparts';\\n\", \"import { autoPartCount } from '../../actions/autoparts';\\n\", '\\n', \"import Head from 'next/head';\\n\"]\n"
     ]
    }
   ],
   "source": [
    "# debug\n",
    "# lets see if this actually opened the correct file\n",
    "print(data[:10])"
   ]
  },
  {
   "cell_type": "code",
   "execution_count": 6,
   "id": "b8b87051",
   "metadata": {},
   "outputs": [],
   "source": [
    "# declare empty list to store auto part names\n",
    "auto_parts = []"
   ]
  },
  {
   "cell_type": "code",
   "execution_count": 7,
   "id": "7cfcfd30",
   "metadata": {},
   "outputs": [],
   "source": [
    "# read auto part names from part-names.js file\n",
    "with open('part-names.js') as f:\n",
    "    auto_part_data = f.read()"
   ]
  },
  {
   "cell_type": "code",
   "execution_count": 8,
   "id": "ded596a0",
   "metadata": {},
   "outputs": [],
   "source": [
    "    # find all auto part names using regular expression\n",
    "    # auto_part_matches = re.findall(r\"partname: '(.+?)'\", auto_part_data)\n",
    "\n",
    "    # find all auto part names using regular expression\n",
    "    auto_part_matches = re.findall(r\"partname:(?:\\s*)'(.+?)'\", auto_part_data)"
   ]
  },
  {
   "cell_type": "code",
   "execution_count": 9,
   "id": "95ade77d",
   "metadata": {},
   "outputs": [
    {
     "name": "stdout",
     "output_type": "stream",
     "text": [
      "['Air Box or Air Cleaner', 'Air Condition Vents or Heater Vents', 'Air Flow Meter', 'Air Pump', 'Air Ride Compressor', 'Air Shutter', 'Air Tube/Resonator', 'Alternator', 'Amplifier/Radio', 'Antenna', 'Anti Lock Brake Computer', 'Anti Lock Brake Pump', 'Armrest', 'Ash Tray/Lighter', 'Audiovisual or TV Screen)', 'Automatic Headlight Dimmer', 'Auto Glass', 'Auto. Trans. Cooler', 'Axle Actuator 4WD', 'Axle Assy Fr (4WD w. Housing)', 'Axle Assy Rear With Housing', 'Axle Beam Front 2WD Include I Beam Suspension', 'Axle Beam Rear FWD', 'Axle Flange', 'Axle Housing Only', 'Axle Shaft', 'Back Door Above Rear Bumper)', 'Back Door Glass', 'Back Door Handle, Inside', 'Back Door Handle, Outside', 'Back Door Hinge', 'Back Door Moulding', 'Back Door Shell', 'Back Door Trim Panel', 'Back Glass', 'Back Glass Regulator', 'Back Glass Shock', 'Backing Plate, Front', 'Backing Plate, Rear', 'Backup Camera', 'Backup Light', 'Battery', 'Battery Tray', 'Bed, Pickup', 'Bed Floor Pickup', 'Bed Front Panel Pickup', 'Bed Liner', 'Bed Side, Pickup', 'Bell Housing', 'Belt Tensioner', 'Blind Spot Camera', 'Blower Motor', 'Body Wiring Harness', 'Brake Auto Parts', 'Brake Clutch Pedal', 'Brake Booster', 'Brake Proportioning Valve', 'Brake Rotor Front Drum', 'Brake Rotor Rear Drum', 'Brake Shoes/Pads', 'Brush Guard', 'Bumper Assyembly Front Includes Cover', 'Bumper Assyembly Rear Includes Cover', 'Bumper Bracket (Misc)', 'Bumper Cover (Front)', 'Bumper Cover (Rear)', 'Bumper End Cap', 'Bumper Energy Absorber (Front)', 'Bumper Energy Absorber (Rear)', 'Bumper Face Bar (Front)', 'Bumper Face Bar (Rear)', 'Bumper Filler Panel', 'Bumper Guard (Front)', 'Bumper Guard (Rear)', 'Bumper Impact Strip', 'Bumper Reinforcement (Front)', 'Bumper Reinforcement (Rear)', 'Bumper Shock', 'Bumper Step Pad', 'Cab Auto Parts', 'Cab', 'Cab Clip No Cowl', 'Cab Corner', 'Cabin Air Filter', 'Cabin Fuse Box', 'Caliper', 'Camera Projector', 'Camshaft', 'Camshaft Housing', 'Carburetor or Throttle Body', 'Cargo Cover/Shade', 'Carpet', 'Carrier or Differential', 'Carrier Case', 'CD Player or Radio', 'Center Cap or Wheel', 'A Pillar', 'Center Pillar', 'Charging Port Door Assembly', 'Chassis Control Computer', 'Clock', 'Clockspring For Air Bag', 'Clutch Cable', 'Clutch Disc', 'Clutch Master Cylinder', 'Coil/Air Spring', 'Coil/Igniter', 'Column Switch', 'Computer Box Engine', 'Computer Box Not Engine', 'Condenser', 'Condenser and Radiator and Mounted Cooling Fan', 'Connecting Rod For Engine', 'Console Front', 'Console Rear', 'Control Arm Front Lower', 'Control Arm Front Upper', 'Control Arm Rear Lower', 'Control Arm Rear Upper', 'Convertible Top Boot', 'Convertible Top Lift', 'Convertible Top Motor', 'Convertible Windscreen', 'Coolant Pump', 'Cooling Fan For Radiator and Con MTD', 'Core Radiator Support', 'Cowl', 'Cowl Vent Panel', 'Crank Pulley or Harmonic Balancer', 'Crankshaft', 'Cruise Control Computer', 'Cruise Control Servo or Regulator', 'Cruise Speed Controler', 'Cylinder Head For Engine', 'Dash Interior Seat Switch', 'Dash Bezel', 'Dash Pad', 'Dash Panel', 'Dash Wiring Harness', 'Deck Lid', 'Differential Assembly or Carrier', 'Differential Case Only', 'Differential Flange Only', 'Distributor', 'Door Back Door Above Rear Bumper', 'Door Front', 'Door Handle, Inside', 'Door Handle, Outside', 'Door Outer Repair Panel Back', 'Door Outer Repair Panel Front', 'Door Outer Repair Panel Rear', 'Door Rear Side of Vehicle', 'Door Shell, Back', 'Door Shell, Front', 'Door Shell, Rear', 'Door Window Crank Handle', 'Drag Link', 'Drive-By-Wire', 'Drive Shaft, Front', 'Drive Shaft, Rear', 'EGR Valve', 'Electric Door Motor Not Window', 'Electric Window Motor', 'Electrical Part Misc', 'Emblem', 'Emergency Brake', 'Engine Auto Parts', 'Engine', 'Engine Block', 'Engine Computer', 'Engine Core', 'Engine Cover', 'Engine Cradle', 'Engine Cylinder Head', 'Engine Fuse Box', 'Engine Mounts', 'Engine Oil Pan', 'Engine Wiring Harness', 'Exhaust Assembly', 'Exhaust Cross Pipe', 'Exhaust Fluid Pump', 'Exhaust Fluid Tank', 'Exhaust Heat Shield', 'Exhaust Lead Pipe', 'Exhaust Manifold', 'Exhaust Muffler', 'Exhaust Pipe', 'Exhaust Resonator', 'Exhaust Tail Pipe', 'Fan Blade', 'Fan Clutch', 'Fender', 'Fender Extension or Flare', 'Fender Inner Liner', 'Fender Inner Panel', 'Fender Moulding', 'Fender Skirt', 'Flex Plate', 'Floor Mats', 'Floor Pan', 'Floor Shift Assembly', 'Flywheel', 'Fog Lamp', 'Fog Lamp Bracket', 'Frame', 'Frame Front Section Only', 'Frame Horn', 'Frame Upper and Lower Rails', 'Front Axle Assembly 4WD With Housing', 'Front Axle Beam 2WD, Incl I Beam Suspension', 'Front Axle Shaft', 'Front Bumper Assembly Includes Cover', 'Front Bumper Cover', 'Front Bumper Face Bar', 'Front Bumper Guard', 'Front Bumper Reinforcement', 'Front Console', 'Front Door', 'Front Door Glass', 'Front Door Handle Inside', 'Front Door Handle Outside', 'Front Door Hinge', 'Front Door Mirror', 'Front Door Mirror Glass', 'Front Door Moulding', 'Front Door Regulator', 'Front Door Shell', 'Front Door Switch', 'Front Door Trim Panel', 'Front Door Vent Glass', 'Front Door Vent Glass Regulator', 'Front Door Window Motor', 'Front Drive Shaft', 'Front End Assembly Nose', 'Front Seat Belt Assembly', 'Front Valance', 'Front Window Regulator', 'Fuel Cap', 'Fuel Cell', 'Fuel Distributor or Misc Injection', 'Fuel Filler Door', 'Fuel Filler Neck', 'Fuel Gauge', 'Fuel Injector or Misc Injection', 'Fuel Injector Pump', 'Fuel Line', 'Fuel Pump', 'Fuel Rail or Misc Injection', 'Fuel Tank', 'Fuel Tank Sending Unit', 'Fuse Box Cabin', 'Fuse Box Engine', 'Gas Cap', 'Gas Tank', 'Gate Interior Trim Panel', 'Gate Window Regulator', 'Gate or Lid', 'Gauge Misc', 'Generator', 'Glass, Back', 'Glass Front Door', 'Glass Front Vent', 'Glass Quarter Window', 'Glass Rear Door', 'Glass Rear Vent', 'Glass Special and Sunroof TTop', 'Glass Windshield', 'Glove Box', 'GPS Screen', 'Grille', 'Grille Moulding', 'Grille Surround', 'Harmonic Balancer or Crank Pulley', 'Hatch Trunk Lid', 'Head Cylinder', 'Header Panel', 'Headlamp Ballast', 'Headlamp Bulb', 'Headlight Assembly', 'Headlight Bracket', 'Headlight Bucket', 'Headlight Cover Plastic', 'Headlight Door', 'Headlight Igniter', 'Headlight Motor', 'Headlight Switch Dash', 'Headlight Switch or Column Switch', 'Headlight Washer Motor Only', 'Headlight Wiper Motor Only', 'Headliner', 'Headrest', 'Heads Up Display', 'Heater Assy', 'Heater Core', 'Heater Motor', 'Heater/AC Control', 'Hood', 'Hood Hinge', 'Hood Insulation Pad', 'Hood Latch', 'Hood Ornament', 'Hood Scoop', 'Hood Shock', 'Horn', 'Hub', 'Hub Cap/Wheel Cover Display With Image', 'Hub Cap/Wheel Cover Display Without Image', 'Hub, Lockout 4WD', 'Hybrid Converter Inverter', 'Idler Arm', 'Ignition Module', 'Ignition Switch', 'Ignitor or Coil', 'Info Screen', 'Inside Door Handle', 'Instrument Cluster', 'Intake Manifold', 'Intercooler', 'Interior Complete', 'Interior Light', 'Interior Trim Panel (Gate/Lid)', 'Interior Trim Panel (Quarter)', 'Interior Trim Panel, Door (Back)', 'Interior Trim Panel, Door (Front)', 'Interior Trim Panel, Door (Rear)', 'Inverter Cooler', 'Jack Assembly', 'Keys/Latches and Locks', 'Key Remote/Fob', 'Knee Assembly (see also Strut Assy)', 'Lamp Wiring Harness', 'Latch, Front Door', 'Latch, Rear Door', 'Latch, Back Door', 'Latches', 'Leaf Spring, Front', 'Leaf Spring, Rear', 'License Lamp', 'Lid/Gate', 'Lid Interior Trim Panel', 'Lock Actuator', 'Lockout Hub, 4X4', 'Locks', 'Luggage Rack', 'Marker/Fog Light, Front', 'Marker/Side Light, Rear', 'Master Cylinder', 'Mirror, Door', 'Mirror, Rear View', 'Misc. Electrical', 'Moulding (Back Door)', 'Moulding (Fender)', 'Moulding (Front Door)', 'Moulding (Lid/Hatch/Gate)', 'Moulding (Quarter Panel/Bed Side)', 'Moulding (Rear Door)', 'Moulding (Rocker)', 'Moulding (Windshield)', 'Mouldings (Misc)', 'Night Vision Camera', 'Nose (Front End Assembly)', 'Oil Cooler', 'Oil Filter Adapter', 'Oil Pan, Engine', 'Oil Pan, Transmission', 'Oil Pump, Engine', 'Outside Door Handle', 'Overdrive Unit (see also Transmission)', 'Owners Manual', 'Paddle Shifter', 'Park/Fog Lamp Front', 'Parcel Shelf', 'Park Lamp Rear (Side)', 'Parking Assist Camera', 'Pickup Bed', 'Pickup Bed Floor', 'Pickup Bed Front Panel', 'Pickup Bed Side', 'Pickup Cap/Camper Shell', 'Piston', 'Pitman Arm', 'Power Brake Booster', 'Power Inverter (Hybrid)', 'Power Steering Assy', 'Power Steering Control Valve', 'Power Steering Cooler', 'Power Steering Motor', 'Power Steering Pressure Cyl', 'Power Steering Pressure Hose', 'Power Steering Pump', 'Power Steering Rack/Box/Gear', 'Power Steering Reservoir', 'Pressure Plate', 'Push Rod (Engine)', 'Quarter Interior Trim Panel', 'Quarter Moulding', 'Quarter Panel', 'Quarter Panel Extension', 'Quarter Repair Panel', 'Quarter Window', 'Quarter Window Motor', 'Quarter Window Regulator', 'Rack & Pinion (Steering)', 'Radiator', 'Radiator/Condenser mtd. Cooling Fan', 'Radiator Air Shutter', 'Radiator Core Support', 'Radiator Cover Baffle', 'Radiator Fan Shroud', 'Radiator Overflow Bottle', 'Radio/CD (see also A/C Control or TV Screen)', 'Radius Arm, Front', 'Rag Joint (see also Steering Coupler)', 'Rear Axle Assy (RWD)', 'Rear Axle Beam (FWD)', 'Rear Body Panel', 'Rear Bumper Assembly (includes cover)', 'Rear Bumper Cover', 'Rear Bumper Face Bar', 'Rear Bumper Guard', 'Rear Bumper Reinforcement/Misc', 'Rear Clip', 'Rear Console', 'Rear Crossmember', 'Rear Door (side of vehicle)', 'Rear Door Handle, Inside', 'Rear Door Handle, Outside', 'Rear Door Hinge', 'Rear Door Moulding', 'Rear Door Regulator', 'Rear Door Shell', 'Rear Door Switch', 'Rear Door Trim Panel', 'Rear Door Vent Glass', 'Rear Door Vent Glass regulator', 'Rear Door Window', 'Rear Door Window Motor', 'Rear Door Window Regulator', 'Rear Drive Shaft', 'Rear Finish Panel', 'Rear Gate/Lid', 'Rear Gate Window Motor', 'Rear Knuckle/Stub Axle', 'Rear Lower Valance', 'Rear Seat Belt Assembly', 'Rear Suspension (see also Control Arms)', 'Rear Suspension Locating Arm', 'Rear Suspension Trailing Arm', 'Rear Window Defogger', 'Rear Window Washer Motor', 'Relay (Misc)', 'Ring and Pinion Only', 'Rocker Arm', 'Rocker Moulding', 'Rocker Panel (see also Center Pillar)', 'Roll Bar', 'Roll Bar Padding', 'Roof', 'Roof Panel (see also Sunroof)', 'Roof Rack', 'Running Boards', 'Running Board Motor', 'Seat, Back (3rd)', 'Seat, Front', 'Seat, Rear (2nd)', 'Seat Belt, Front', 'Seat Belt, Rear', 'Seat Belt Motor', 'Seat Belt Track (Electric)', 'Seat Motor', 'Seat Switch', 'Seat Track, Front Only', 'Sensor (Body, Misc)', 'Sensor (Chassis, Misc)', 'Sensor (Drivetrain, Misc)', 'Shifter Assembly (Floor)', 'Shifter Linkage', 'Shock Absorber', 'Slave Cylinder', 'Smog Pump', 'Spare Tire Carrier', 'Spare Tire Cover', 'Speaker', 'Special Glass', 'Speedometer', 'Spindle', 'Spoiler, Front', 'Spoiler, Rear', 'Spring Hanger', 'Stabilizer Bar Only', 'Starter', 'Steering Column', 'Steering Column Shaft', 'Steering Coupler', 'Steering Knuckle', 'Steering Pump', 'Steering Rack/Box/Gear', 'Steering Wheel', 'Strut (see also Knee Assy)', 'Strut Tower Brace', 'Sun Roof / T-Top', 'Sun Roof Motor', 'Sunvisor', 'Supercharger/Turbocharger', 'Tachometer', 'Tail Light', 'Tail Light Circuit Board', 'Tailgate Cable', 'Tailgate/Trunk Lid', 'Tailgate Hinge', 'Tailgate Lift Motor', 'Thermostat Housing', 'Third Brake Light', 'Throttle Body/Throttle Valve Housing', 'Tie Rod', 'Timing Belt/Chain', 'Timing Cover', 'Timing Gears', 'Tire', 'Tonneau Cover', 'Torque Convertor', 'Torsion Bar', 'Track/Watts Linkage', 'Trailer Hitch/Tow Hook/Winch', 'Trans OD Unit', 'Transaxle Housing Only', 'Transfer Case', 'Transfer Case Adapter', 'Transfer Case Core', 'Transfer Case Electric Motor', 'Transfer Case Switch', 'Transmission Auto Parts', 'Transmission', 'Transmission Bellhousing Only', 'Transmission Clutch Actuator', 'Transmission Computer', 'Transmission Core', 'Transmission Crossmember', 'Transmission Front Pump', 'Transmission Mount', 'Transmission Pan', 'Transmission Torque Converter', 'Transmission Valve Body', 'Transmission Wiring Harness', 'Trim Ring', 'Trunk Lid Pull Down Motor', 'Trunk Lid/Hatch', 'Trunk Lid/Hatch Hinge', 'Trunk Lid/Hatch Shock', 'Trunk Lid/Tailgate Moulding', 'TTop/Sunroof', 'Turbo/Supercharger Core', 'Turbocharger/Supercharger', 'Turn Signal/Fog Lamp', 'TV Screen', 'Uniside', 'Vacuum Pump', 'Vacuum Storage Tank', 'Valance, Front', 'Valance, Rear', 'Valve Cover', 'Vapor Canister', 'Voltage Regulator', 'Water Pump', 'Water Separator', 'Weather Stripping', 'Wheel (display w image)', 'Wheel (display w/o image)', 'Wheel Bearing', 'Wheel Cover/Hubcap (display w image)', 'Wheel Cover/Hubcap (display w/o image)', 'Wheel Lug Nut', 'Wheel Opening Moulding', 'Wheelhouse (Rear)', 'Window Motor', 'Window Regulator (Front)', 'Window Regulator (Rear)', 'Window Shade', 'Window Switch (Front Door)', 'Window Switch (Rear Door)', 'Window Washer Motor, Rear', 'Windshield', 'Windshield Frame', 'Windshield Washer Motor Front', 'Windshield Washer Reservoir', 'Wiper Arm', 'Wiper Linkage', 'Wiper Motor Front Windshield', 'Wiper Motor, Rear', 'Wiring Harness Air Conditioning', 'Wiring Harness Body', 'Wiring Harness Dash', 'Wiring Harness Engine', 'Wiring Harness Lamp', 'Wiring Harness Misc', 'Wiring Harness Transmission']\n"
     ]
    }
   ],
   "source": [
    "# debug feature\n",
    "print(auto_part_matches)"
   ]
  },
  {
   "cell_type": "code",
   "execution_count": 10,
   "id": "205cac66",
   "metadata": {},
   "outputs": [],
   "source": [
    "    # re.findall() to obtain all matches and then filtered out any empty matches using a list comprehension. \n",
    "    # This ensures that the auto part names are preserved in the order they appear in the part-names.js file.\n",
    "    auto_parts = [match for match in auto_part_matches if match]"
   ]
  },
  {
   "cell_type": "code",
   "execution_count": 11,
   "id": "976f48d0",
   "metadata": {},
   "outputs": [
    {
     "name": "stdout",
     "output_type": "stream",
     "text": [
      "['Air Box or Air Cleaner', 'Air Condition Vents or Heater Vents', 'Air Flow Meter', 'Air Pump', 'Air Ride Compressor', 'Air Shutter', 'Air Tube/Resonator', 'Alternator', 'Amplifier/Radio', 'Antenna']\n"
     ]
    }
   ],
   "source": [
    "    print(auto_parts[:10])"
   ]
  },
  {
   "cell_type": "code",
   "execution_count": 12,
   "id": "c3705d7b",
   "metadata": {},
   "outputs": [],
   "source": [
    "    # reformat auto part names for proper capitalization and list items with hyphens\n",
    "    auto_parts = []\n",
    "    for part in auto_part_matches:\n",
    "        if '-' in part:\n",
    "            # format list item with hypens\n",
    "            new_part = '-'.join([word.capitalize() for word in part.split('-')])\n",
    "        else:\n",
    "            # apply proper capitalization for auto part (capitalization preserved for all occurrences of auto part name)\n",
    "            new_part = re.sub(r\"(?i)\\b(A Pillars?|APillars?|A Pillar|APillar)\\b\", \n",
    "                      lambda match: match.group(0).upper() if match.group(0).isupper() else match.group(0).replace(match.group(0), match.group(0).capitalize()), \n",
    "                      part)\n",
    "        auto_parts.append(new_part)"
   ]
  },
  {
   "cell_type": "code",
   "execution_count": 13,
   "id": "3681fca0",
   "metadata": {
    "scrolled": true
   },
   "outputs": [
    {
     "name": "stdout",
     "output_type": "stream",
     "text": [
      "An error occurred for auto part: Wiring Harness Transmission\n",
      "name 'formatted_output_folder_path' is not defined\n",
      "An error occurred for auto part: Wiring Harness Misc\n",
      "name 'formatted_output_folder_path' is not defined\n",
      "An error occurred for auto part: Wiring Harness Lamp\n",
      "name 'formatted_output_folder_path' is not defined\n",
      "An error occurred for auto part: Wiring Harness Engine\n",
      "name 'formatted_output_folder_path' is not defined\n",
      "An error occurred for auto part: Wiring Harness Dash\n",
      "name 'formatted_output_folder_path' is not defined\n",
      "An error occurred for auto part: Wiring Harness Body\n",
      "name 'formatted_output_folder_path' is not defined\n",
      "An error occurred for auto part: Wiring Harness Air Conditioning\n",
      "name 'formatted_output_folder_path' is not defined\n",
      "An error occurred for auto part: Wiper Motor, Rear\n",
      "name 'formatted_output_folder_path' is not defined\n",
      "An error occurred for auto part: Wiper Motor Front Windshield\n",
      "name 'formatted_output_folder_path' is not defined\n",
      "An error occurred for auto part: Wiper Linkage\n",
      "name 'formatted_output_folder_path' is not defined\n",
      "An error occurred for auto part: Wiper Arm\n",
      "name 'formatted_output_folder_path' is not defined\n",
      "An error occurred for auto part: Windshield Washer Reservoir\n",
      "name 'formatted_output_folder_path' is not defined\n",
      "An error occurred for auto part: Windshield Washer Motor Front\n",
      "name 'formatted_output_folder_path' is not defined\n",
      "An error occurred for auto part: Windshield Frame\n",
      "name 'formatted_output_folder_path' is not defined\n",
      "An error occurred for auto part: Windshield\n",
      "name 'formatted_output_folder_path' is not defined\n",
      "An error occurred for auto part: Window Washer Motor, Rear\n",
      "name 'formatted_output_folder_path' is not defined\n",
      "An error occurred for auto part: Window Switch (Rear Door)\n",
      "name 'formatted_output_folder_path' is not defined\n",
      "An error occurred for auto part: Window Switch (Front Door)\n",
      "name 'formatted_output_folder_path' is not defined\n",
      "An error occurred for auto part: Window Shade\n",
      "name 'formatted_output_folder_path' is not defined\n",
      "An error occurred for auto part: Window Regulator (Rear)\n",
      "name 'formatted_output_folder_path' is not defined\n",
      "An error occurred for auto part: Window Regulator (Front)\n",
      "name 'formatted_output_folder_path' is not defined\n",
      "An error occurred for auto part: Window Motor\n",
      "name 'formatted_output_folder_path' is not defined\n",
      "An error occurred for auto part: Wheelhouse (Rear)\n",
      "name 'formatted_output_folder_path' is not defined\n",
      "An error occurred for auto part: Wheel Opening Moulding\n",
      "name 'formatted_output_folder_path' is not defined\n",
      "An error occurred for auto part: Wheel Lug Nut\n",
      "name 'formatted_output_folder_path' is not defined\n",
      "An error occurred for auto part: Wheel Cover/Hubcap (display w/o image)\n",
      "name 'formatted_output_folder_path' is not defined\n",
      "An error occurred for auto part: Wheel Cover/Hubcap (display w image)\n",
      "name 'formatted_output_folder_path' is not defined\n",
      "An error occurred for auto part: Wheel Bearing\n",
      "name 'formatted_output_folder_path' is not defined\n",
      "An error occurred for auto part: Wheel (display w/o image)\n",
      "name 'formatted_output_folder_path' is not defined\n",
      "An error occurred for auto part: Wheel (display w image)\n",
      "name 'formatted_output_folder_path' is not defined\n",
      "An error occurred for auto part: Weather Stripping\n",
      "name 'formatted_output_folder_path' is not defined\n",
      "An error occurred for auto part: Water Separator\n",
      "name 'formatted_output_folder_path' is not defined\n",
      "An error occurred for auto part: Water Pump\n",
      "name 'formatted_output_folder_path' is not defined\n",
      "An error occurred for auto part: Voltage Regulator\n",
      "name 'formatted_output_folder_path' is not defined\n",
      "An error occurred for auto part: Vapor Canister\n",
      "name 'formatted_output_folder_path' is not defined\n",
      "An error occurred for auto part: Valve Cover\n",
      "name 'formatted_output_folder_path' is not defined\n",
      "An error occurred for auto part: Valance, Rear\n",
      "name 'formatted_output_folder_path' is not defined\n",
      "An error occurred for auto part: Valance, Front\n",
      "name 'formatted_output_folder_path' is not defined\n",
      "An error occurred for auto part: Vacuum Storage Tank\n",
      "name 'formatted_output_folder_path' is not defined\n",
      "An error occurred for auto part: Vacuum Pump\n",
      "name 'formatted_output_folder_path' is not defined\n",
      "An error occurred for auto part: Uniside\n",
      "name 'formatted_output_folder_path' is not defined\n",
      "An error occurred for auto part: TV Screen\n",
      "name 'formatted_output_folder_path' is not defined\n",
      "An error occurred for auto part: Turn Signal/Fog Lamp\n",
      "name 'formatted_output_folder_path' is not defined\n",
      "An error occurred for auto part: Turbocharger/Supercharger\n",
      "name 'formatted_output_folder_path' is not defined\n",
      "An error occurred for auto part: Turbo/Supercharger Core\n",
      "name 'formatted_output_folder_path' is not defined\n",
      "An error occurred for auto part: TTop/Sunroof\n",
      "name 'formatted_output_folder_path' is not defined\n",
      "An error occurred for auto part: Trunk Lid/Tailgate Moulding\n",
      "name 'formatted_output_folder_path' is not defined\n",
      "An error occurred for auto part: Trunk Lid/Hatch Shock\n",
      "name 'formatted_output_folder_path' is not defined\n",
      "An error occurred for auto part: Trunk Lid/Hatch Hinge\n",
      "name 'formatted_output_folder_path' is not defined\n",
      "An error occurred for auto part: Trunk Lid/Hatch\n",
      "name 'formatted_output_folder_path' is not defined\n",
      "An error occurred for auto part: Trunk Lid Pull Down Motor\n",
      "name 'formatted_output_folder_path' is not defined\n",
      "An error occurred for auto part: Trim Ring\n",
      "name 'formatted_output_folder_path' is not defined\n",
      "An error occurred for auto part: Transmission Wiring Harness\n",
      "name 'formatted_output_folder_path' is not defined\n",
      "An error occurred for auto part: Transmission Valve Body\n",
      "name 'formatted_output_folder_path' is not defined\n",
      "An error occurred for auto part: Transmission Torque Converter\n",
      "name 'formatted_output_folder_path' is not defined\n",
      "An error occurred for auto part: Transmission Pan\n",
      "name 'formatted_output_folder_path' is not defined\n",
      "An error occurred for auto part: Transmission Mount\n",
      "name 'formatted_output_folder_path' is not defined\n",
      "An error occurred for auto part: Transmission Front Pump\n",
      "name 'formatted_output_folder_path' is not defined\n",
      "An error occurred for auto part: Transmission Crossmember\n",
      "name 'formatted_output_folder_path' is not defined\n",
      "An error occurred for auto part: Transmission Core\n",
      "name 'formatted_output_folder_path' is not defined\n",
      "An error occurred for auto part: Transmission Computer\n",
      "name 'formatted_output_folder_path' is not defined\n",
      "An error occurred for auto part: Transmission Clutch Actuator\n",
      "name 'formatted_output_folder_path' is not defined\n",
      "An error occurred for auto part: Transmission Bellhousing Only\n",
      "name 'formatted_output_folder_path' is not defined\n",
      "An error occurred for auto part: Transmission\n",
      "name 'formatted_output_folder_path' is not defined\n",
      "An error occurred for auto part: Transmission Auto Parts\n",
      "name 'formatted_output_folder_path' is not defined\n",
      "An error occurred for auto part: Transfer Case Switch\n",
      "name 'formatted_output_folder_path' is not defined\n",
      "An error occurred for auto part: Transfer Case Electric Motor\n",
      "name 'formatted_output_folder_path' is not defined\n",
      "An error occurred for auto part: Transfer Case Core\n",
      "name 'formatted_output_folder_path' is not defined\n",
      "An error occurred for auto part: Transfer Case Adapter\n",
      "name 'formatted_output_folder_path' is not defined\n",
      "An error occurred for auto part: Transfer Case\n",
      "name 'formatted_output_folder_path' is not defined\n",
      "An error occurred for auto part: Transaxle Housing Only\n",
      "name 'formatted_output_folder_path' is not defined\n",
      "An error occurred for auto part: Trans OD Unit\n",
      "name 'formatted_output_folder_path' is not defined\n",
      "An error occurred for auto part: Trailer Hitch/Tow Hook/Winch\n",
      "name 'formatted_output_folder_path' is not defined\n",
      "An error occurred for auto part: Track/Watts Linkage\n",
      "name 'formatted_output_folder_path' is not defined\n",
      "An error occurred for auto part: Torsion Bar\n",
      "name 'formatted_output_folder_path' is not defined\n",
      "An error occurred for auto part: Torque Convertor\n",
      "name 'formatted_output_folder_path' is not defined\n",
      "An error occurred for auto part: Tonneau Cover\n",
      "name 'formatted_output_folder_path' is not defined\n"
     ]
    },
    {
     "ename": "KeyboardInterrupt",
     "evalue": "",
     "output_type": "error",
     "traceback": [
      "\u001b[0;31m---------------------------------------------------------------------------\u001b[0m",
      "\u001b[0;31mKeyboardInterrupt\u001b[0m                         Traceback (most recent call last)",
      "\u001b[0;32m<ipython-input-13-98dbe62deaab>\u001b[0m in \u001b[0;36m<module>\u001b[0;34m\u001b[0m\n\u001b[1;32m     17\u001b[0m         \u001b[0;32mfor\u001b[0m \u001b[0mline\u001b[0m \u001b[0;32min\u001b[0m \u001b[0mdata\u001b[0m\u001b[0;34m:\u001b[0m\u001b[0;34m\u001b[0m\u001b[0;34m\u001b[0m\u001b[0m\n\u001b[1;32m     18\u001b[0m             \u001b[0;31m# Replace auto part name in image file paths\u001b[0m\u001b[0;34m\u001b[0m\u001b[0;34m\u001b[0m\u001b[0;34m\u001b[0m\u001b[0m\n\u001b[0;32m---> 19\u001b[0;31m             line = re.sub(r\"\\bA[ -]?Pillars?\\b|\\ba-pillars?\\b|\\ba[- ]?pillar(?:s)?\\b|\\bapillars?\\b\", \n\u001b[0m\u001b[1;32m     20\u001b[0m                           \u001b[0;34mf\"{auto_part if 'apillar' not in line.lower() else '-'.join(auto_part.split())}\"\u001b[0m\u001b[0;34m,\u001b[0m\u001b[0;34m\u001b[0m\u001b[0;34m\u001b[0m\u001b[0m\n\u001b[1;32m     21\u001b[0m                           line, flags=re.IGNORECASE)\n",
      "\u001b[0;32m~/opt/anaconda3/lib/python3.8/re.py\u001b[0m in \u001b[0;36msub\u001b[0;34m(pattern, repl, string, count, flags)\u001b[0m\n\u001b[1;32m    208\u001b[0m     \u001b[0ma\u001b[0m \u001b[0mcallable\u001b[0m\u001b[0;34m,\u001b[0m \u001b[0mit\u001b[0m\u001b[0;31m'\u001b[0m\u001b[0ms\u001b[0m \u001b[0mpassed\u001b[0m \u001b[0mthe\u001b[0m \u001b[0mMatch\u001b[0m \u001b[0mobject\u001b[0m \u001b[0;32mand\u001b[0m \u001b[0mmust\u001b[0m \u001b[0;32mreturn\u001b[0m\u001b[0;34m\u001b[0m\u001b[0;34m\u001b[0m\u001b[0m\n\u001b[1;32m    209\u001b[0m     a replacement string to be used.\"\"\"\n\u001b[0;32m--> 210\u001b[0;31m     \u001b[0;32mreturn\u001b[0m \u001b[0m_compile\u001b[0m\u001b[0;34m(\u001b[0m\u001b[0mpattern\u001b[0m\u001b[0;34m,\u001b[0m \u001b[0mflags\u001b[0m\u001b[0;34m)\u001b[0m\u001b[0;34m.\u001b[0m\u001b[0msub\u001b[0m\u001b[0;34m(\u001b[0m\u001b[0mrepl\u001b[0m\u001b[0;34m,\u001b[0m \u001b[0mstring\u001b[0m\u001b[0;34m,\u001b[0m \u001b[0mcount\u001b[0m\u001b[0;34m)\u001b[0m\u001b[0;34m\u001b[0m\u001b[0;34m\u001b[0m\u001b[0m\n\u001b[0m\u001b[1;32m    211\u001b[0m \u001b[0;34m\u001b[0m\u001b[0m\n\u001b[1;32m    212\u001b[0m \u001b[0;32mdef\u001b[0m \u001b[0msubn\u001b[0m\u001b[0;34m(\u001b[0m\u001b[0mpattern\u001b[0m\u001b[0;34m,\u001b[0m \u001b[0mrepl\u001b[0m\u001b[0;34m,\u001b[0m \u001b[0mstring\u001b[0m\u001b[0;34m,\u001b[0m \u001b[0mcount\u001b[0m\u001b[0;34m=\u001b[0m\u001b[0;36m0\u001b[0m\u001b[0;34m,\u001b[0m \u001b[0mflags\u001b[0m\u001b[0;34m=\u001b[0m\u001b[0;36m0\u001b[0m\u001b[0;34m)\u001b[0m\u001b[0;34m:\u001b[0m\u001b[0;34m\u001b[0m\u001b[0;34m\u001b[0m\u001b[0m\n",
      "\u001b[0;31mKeyboardInterrupt\u001b[0m: "
     ]
    }
   ],
   "source": [
    "# add custom auto part names to auto_parts list\n",
    "# commenting out for now, initially I was going to add them manually\n",
    "# the above function opens up the part-names js file to grap the string by regex pattern\n",
    "\n",
    "# auto_parts.extend(['apillar', 'engine', 'transmission', 'transfer case', 'alternator', 'ac compressor', 'radiator'])\n",
    "\n",
    "# reverse the order of the auto parts list\n",
    "# auto_parts = list(reversed(auto_parts))\n",
    "auto_parts = auto_parts[::-1]\n",
    "\n",
    "# loop through each auto part\n",
    "for auto_part in auto_parts:\n",
    "    try:\n",
    "        output_lines = []\n",
    "\n",
    "        # replace parts of apillarb.js with the auto part name\n",
    "        for line in data:\n",
    "            # Replace auto part name in image file paths\n",
    "            line = re.sub(r\"\\bA[ -]?Pillars?\\b|\\ba-pillars?\\b|\\ba[- ]?pillar(?:s)?\\b|\\bapillars?\\b\", \n",
    "                          f\"{auto_part if 'apillar' not in line.lower() else '-'.join(auto_part.split())}\", \n",
    "                          line, flags=re.IGNORECASE)\n",
    "            output_lines.append(line)\n",
    "\n",
    "        # determine folder name based on auto part name, and convert to lowercase\n",
    "        folder_name = '-'.join(auto_part.split()).lower()\n",
    "\n",
    "        # set absolute path of output folder to root directory\n",
    "        output_folder_path = \"/Users/autopartex/Desktop/AutoPartEx/AutoPartExUtilities/\"\n",
    "\n",
    "        # check if the output folder exists; if not, create it\n",
    "        if not os.path.exists(output_folder_path):\n",
    "            os.mkdir(output_folder_path)\n",
    "\n",
    "        # set absolute path of formatted output folder\n",
    "        formatted_output_folder_path = os.path.join(output_folder_path, folder_name)\n",
    "\n",
    "        # check if the formatted output folder exists; if not, create it\n",
    "        if not os.path.exists(formatted_output_folder_path):\n",
    "            os.mkdir(formatted_output_folder_path)\n",
    "\n",
    "        # set filename of output file\n",
    "        output_filename = 'index.js'\n",
    "\n",
    "        # set output file absolute path within the formatted output folder\n",
    "        output_path = os.path.join(formatted_output_folder_path, output_filename)\n",
    "\n",
    "        # check if the output file exists in the formatted output folder; if not, create it\n",
    "        if not os.path.exists(output_path):\n",
    "            with open(output_path, 'w') as f:\n",
    "                f.writelines(output_lines)\n",
    "\n",
    "            # print the number of lines in the new file\n",
    "            print(f\"{len(output_lines)} lines written to {os.path.abspath(output_path)}\")\n",
    "\n",
    "        # if the output file exists in the formatted output folder, print a message indicating that it was not created\n",
    "        else:\n",
    "            print(f\"{output_filename} already exists in the formatted output folder; skipping\")\n",
    "    except Exception as e:\n",
    "        print(f\"An error occurred for auto part: {auto_part}\")\n",
    "        print(e)\n",
    "\n",
    "        # continue to the next iteration of the loop\n",
    "        continue\n",
    "        \n",
    "    # navigate back to the output_folder_path\n",
    "    os.chdir(output_folder_path)\n",
    "    \n",
    "\n",
    "# move the folder to the current working directory\n",
    "os.rename(\n",
    "    os.path.join(output_folder_path, formatted_output_folder_path),\n",
    "    os.path.join(output_folder_path, filename)\n",
    ")"
   ]
  },
  {
   "cell_type": "code",
   "execution_count": null,
   "id": "5b059841",
   "metadata": {},
   "outputs": [],
   "source": []
  },
  {
   "cell_type": "code",
   "execution_count": null,
   "id": "573ac971",
   "metadata": {},
   "outputs": [],
   "source": []
  }
 ],
 "metadata": {
  "kernelspec": {
   "display_name": "Python 3",
   "language": "python",
   "name": "python3"
  },
  "language_info": {
   "codemirror_mode": {
    "name": "ipython",
    "version": 3
   },
   "file_extension": ".py",
   "mimetype": "text/x-python",
   "name": "python",
   "nbconvert_exporter": "python",
   "pygments_lexer": "ipython3",
   "version": "3.8.8"
  }
 },
 "nbformat": 4,
 "nbformat_minor": 5
}
